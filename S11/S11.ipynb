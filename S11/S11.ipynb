{
 "cells": [
  {
   "cell_type": "code",
   "execution_count": 1,
   "metadata": {},
   "outputs": [
    {
     "data": {
      "text/plain": [
       "-0.7999999999999999"
      ]
     },
     "execution_count": 1,
     "metadata": {},
     "output_type": "execute_result"
    }
   ],
   "source": [
    "from scipy import stats\n",
    "srcc = stats.spearmanr( [5,-1,8,2], [6,9,1,3])\n",
    "srcc[0]"
   ]
  },
  {
   "cell_type": "code",
   "execution_count": 2,
   "metadata": {},
   "outputs": [
    {
     "name": "stdout",
     "output_type": "stream",
     "text": [
      "e:\\books\\uni\\arshad\\OTHER\\ترم 3\\پایاننامه\\proposal\\knowledge distillation\\CKDN_code\n"
     ]
    }
   ],
   "source": [
    "%cd ..\n"
   ]
  },
  {
   "cell_type": "code",
   "execution_count": 3,
   "metadata": {},
   "outputs": [],
   "source": [
    "import predict_one_image\n",
    "\n"
   ]
  },
  {
   "cell_type": "code",
   "execution_count": 4,
   "metadata": {},
   "outputs": [],
   "source": [
    "iqa = predict_one_image.IQA_CKDN()"
   ]
  },
  {
   "cell_type": "code",
   "execution_count": 5,
   "metadata": {},
   "outputs": [
    {
     "name": "stderr",
     "output_type": "stream",
     "text": [
      "c:\\Users\\Farhad\\anaconda3\\envs\\gputest\\lib\\site-packages\\torchvision\\transforms\\functional.py:423: UserWarning: Argument interpolation should be of type InterpolationMode instead of int. Please, use InterpolationMode enum.\n",
      "  warnings.warn(\n"
     ]
    },
    {
     "data": {
      "text/plain": [
       "0.3415382"
      ]
     },
     "execution_count": 5,
     "metadata": {},
     "output_type": "execute_result"
    }
   ],
   "source": [
    "iqa.predict(restored_addr=\"images1/restored/3.png\" , degraded_addr= \"images1/degraded/3.png\")  # dist , ref"
   ]
  },
  {
   "cell_type": "code",
   "execution_count": 6,
   "metadata": {},
   "outputs": [],
   "source": [
    "dte = iqa.get_DTE_features(\"images1/restored/3.png\")\n",
    "qse = iqa.get_QSE_features(\"images1/restored/3.png\")\n",
    "qse_minus = iqa.get_QSE_minus_DTE_features(\"images1/restored/3.png\" , \"images1/restored/3.png\" )"
   ]
  },
  {
   "cell_type": "code",
   "execution_count": 7,
   "metadata": {},
   "outputs": [
    {
     "data": {
      "text/plain": [
       "((1, 256), (1, 256), (1, 256))"
      ]
     },
     "execution_count": 7,
     "metadata": {},
     "output_type": "execute_result"
    }
   ],
   "source": [
    "dte.shape , qse.shape , qse_minus.shape"
   ]
  },
  {
   "attachments": {},
   "cell_type": "markdown",
   "metadata": {},
   "source": [
    "## correlation or cosine distance"
   ]
  },
  {
   "cell_type": "code",
   "execution_count": 8,
   "metadata": {},
   "outputs": [
    {
     "data": {
      "text/plain": [
       "(0.999831912336919, 2.3543834686279297e-05)"
      ]
     },
     "execution_count": 8,
     "metadata": {},
     "output_type": "execute_result"
    }
   ],
   "source": [
    "from scipy import stats\n",
    "import numpy as np\n",
    "from scipy.spatial.distance import cosine\n",
    "\n",
    "\n",
    "r = \"S5/test/r.BMP\"\n",
    "d = \"S5/test/i04_10_1.bmp\"\n",
    "\n",
    "\n",
    "rr = iqa.get_DTE_features(r)[0]\n",
    "dd = iqa.get_DTE_features(d)[0]\n",
    "\n",
    "srcc = stats.spearmanr( rr , dd)\n",
    "srcc[0] , cosine(rr, dd)"
   ]
  },
  {
   "cell_type": "code",
   "execution_count": 9,
   "metadata": {},
   "outputs": [],
   "source": [
    "import glob\n",
    "TID_ADDR = \"E:\\\\books/uni/arshad/OTHER/term2\\seminars\\papers\\Mengyang2019/bosse2017 varianced_patches/test_varianced_and_random_patch_method\\datasets\\TID2013\"\n",
    "dsts = [\"01\",\"02\",\"03\",\"04\",\"05\",\"06\",\"07\",\"08\",\"09\" , \"10\", \"11\", \"12\", \"13\", \"14\", \"15\", \"16\", \"17\", \"18\", \"19\",\"20\",\"21\",\"22\",\"23\",\"24\"]\n",
    "\n",
    "\n",
    "def get_images_dst(dst_type):\n",
    "    imgs = glob.glob(TID_ADDR+'/distorted_images/*_'+ dst_type +'_'+ '*' +'.*')\n",
    "    return imgs\n",
    "\n",
    "def get_mos_dst(dst_type ):\n",
    "    mos = []\n",
    "    f = open(TID_ADDR+\"/mos_with_names.txt\", \"r\")\n",
    "    lines = f.readlines()\n",
    "    for l in lines:\n",
    "        if l.split(' ')[1].split('_')[1] == dst_type:\n",
    "            mos.append(float(l.split(' ')[0][:5]))\n",
    "\n",
    "    return mos\n",
    "\n",
    "\n",
    "refs = glob.glob(TID_ADDR+'/reference_images/*')\n",
    "\n",
    "refs_for_dst = []\n",
    "\n",
    "for elem in refs:\n",
    "    for i in range(5):\n",
    "        refs_for_dst.append(elem)"
   ]
  },
  {
   "cell_type": "code",
   "execution_count": 10,
   "metadata": {},
   "outputs": [
    {
     "data": {
      "text/plain": [
       "125"
      ]
     },
     "execution_count": 10,
     "metadata": {},
     "output_type": "execute_result"
    }
   ],
   "source": [
    "len(get_images_dst(dsts[7]))"
   ]
  },
  {
   "cell_type": "code",
   "execution_count": 11,
   "metadata": {},
   "outputs": [
    {
     "data": {
      "text/plain": [
       "(125, 125, 125)"
      ]
     },
     "execution_count": 11,
     "metadata": {},
     "output_type": "execute_result"
    }
   ],
   "source": [
    "len(get_images_dst(dsts[7])) , len(refs_for_dst) , len(get_mos_dst(dsts[7]))"
   ]
  },
  {
   "cell_type": "code",
   "execution_count": 12,
   "metadata": {},
   "outputs": [
    {
     "data": {
      "text/plain": [
       "'E:\\\\books/uni/arshad/OTHER/term2\\\\seminars\\\\papers\\\\Mengyang2019/bosse2017 varianced_patches/test_varianced_and_random_patch_method\\\\datasets\\\\TID2013/distorted_images\\\\i22_08_3.bmp'"
      ]
     },
     "execution_count": 12,
     "metadata": {},
     "output_type": "execute_result"
    }
   ],
   "source": [
    "get_images_dst(dsts[7])[107]"
   ]
  },
  {
   "cell_type": "code",
   "execution_count": 13,
   "metadata": {},
   "outputs": [
    {
     "data": {
      "text/plain": [
       "'E:\\\\books/uni/arshad/OTHER/term2\\\\seminars\\\\papers\\\\Mengyang2019/bosse2017 varianced_patches/test_varianced_and_random_patch_method\\\\datasets\\\\TID2013/reference_images\\\\I22.BMP'"
      ]
     },
     "execution_count": 13,
     "metadata": {},
     "output_type": "execute_result"
    }
   ],
   "source": [
    "refs_for_dst[107]"
   ]
  },
  {
   "cell_type": "code",
   "execution_count": 14,
   "metadata": {},
   "outputs": [
    {
     "data": {
      "text/plain": [
       "3.783"
      ]
     },
     "execution_count": 14,
     "metadata": {},
     "output_type": "execute_result"
    }
   ],
   "source": [
    "get_mos_dst(dsts[7])[107]"
   ]
  },
  {
   "attachments": {},
   "cell_type": "markdown",
   "metadata": {},
   "source": [
    "## on contents"
   ]
  },
  {
   "cell_type": "code",
   "execution_count": 25,
   "metadata": {},
   "outputs": [],
   "source": [
    "contents = [\"01\",\"02\",\"03\",\"04\",\"05\",\"06\",\"07\",\"08\",\"09\" , \"10\", \"11\", \"12\", \"13\", \"14\", \"15\", \"16\", \"17\", \"18\", \"19\",\"20\",\"21\",\"22\",\"23\",\"24\",\"25\"]\n",
    "\n",
    "\n",
    "def get_images_content(im_name):\n",
    "    imgs = glob.glob(TID_ADDR+'/distorted_images/*'+im_name+'_'+ '*' +'_'+ '*' +'.*')\n",
    "    return imgs\n",
    "\n",
    "def get_mos_content( ):\n",
    "    mos = []\n",
    "    f = open(TID_ADDR+\"/mos_with_names.txt\", \"r\")\n",
    "    lines = f.readlines()\n",
    "    for l in lines:\n",
    "        # if l.split(' ')[1][1:3] == im_name:\n",
    "            mos.append(float(l.split(' ')[0][:5]))\n",
    "\n",
    "    return mos\n",
    "\n",
    "\n",
    "def get_refs_content(content):\n",
    "        return glob.glob(TID_ADDR+'/reference_images/*'+content+'*') * 120"
   ]
  },
  {
   "attachments": {},
   "cell_type": "markdown",
   "metadata": {},
   "source": [
    "regression on type and level:"
   ]
  },
  {
   "cell_type": "code",
   "execution_count": 35,
   "metadata": {},
   "outputs": [],
   "source": [
    "all = glob.glob(TID_ADDR+'/distorted_images/*')\n",
    "\n",
    "\n",
    "all_types = []\n",
    "all_levels = []\n",
    "\n",
    "for im in all:\n",
    "    type = im.split(\"\\\\\")[-1][4:6]\n",
    "    level = im.split(\"\\\\\")[-1].split(\"_\")[-1][0]\n",
    "    all_types.append([float(type)])\n",
    "    all_levels.append([float(level)])\n",
    "\n",
    "\n",
    "\n",
    "\n",
    "all_levels = np.array(all_levels)\n",
    "all_types = np.array(all_types)\n",
    "features = np.hstack((all_types , all_levels))\n",
    "\n",
    "moses = get_mos_content()"
   ]
  },
  {
   "cell_type": "code",
   "execution_count": 51,
   "metadata": {},
   "outputs": [
    {
     "data": {
      "text/plain": [
       "array([[ 1.],\n",
       "       [ 1.],\n",
       "       [ 1.],\n",
       "       ...,\n",
       "       [24.],\n",
       "       [24.],\n",
       "       [24.]])"
      ]
     },
     "execution_count": 51,
     "metadata": {},
     "output_type": "execute_result"
    }
   ],
   "source": [
    "all_types"
   ]
  },
  {
   "cell_type": "code",
   "execution_count": 54,
   "metadata": {},
   "outputs": [
    {
     "name": "stdout",
     "output_type": "stream",
     "text": [
      "Train Error: 0.34588461227069456, Validation Error: 0.40633085904838545\n",
      "Train SRCC: 0.8698893768381099, Validation SRCC: 0.8441641281625788\n"
     ]
    }
   ],
   "source": [
    "from sklearn.model_selection import train_test_split\n",
    "from sklearn.svm import SVR\n",
    "from sklearn.metrics import mean_squared_error\n",
    "\n",
    "X_train, X_val, y_train, y_val = train_test_split(features, moses, test_size=0.2, random_state=4342 , shuffle=True)\n",
    "\n",
    "svr = SVR(kernel='rbf', C=1e3, gamma=0.1)\n",
    "svr.fit(X_train, y_train)\n",
    "\n",
    "train_preds = svr.predict(X_train)\n",
    "val_preds = svr.predict(X_val)\n",
    "\n",
    "train_error = mean_squared_error(y_train, train_preds)\n",
    "val_error = mean_squared_error(y_val, val_preds)\n",
    "\n",
    "train_srcc = stats.spearmanr(y_train, train_preds)[0]\n",
    "val_srcc = stats.spearmanr(y_val, val_preds)[0]\n",
    "\n",
    "print(f'Train Error: {train_error}, Validation Error: {val_error}')\n",
    "print(f'Train SRCC: {train_srcc}, Validation SRCC: {val_srcc}')\n"
   ]
  }
 ],
 "metadata": {
  "kernelspec": {
   "display_name": "gputest",
   "language": "python",
   "name": "python3"
  },
  "language_info": {
   "codemirror_mode": {
    "name": "ipython",
    "version": 3
   },
   "file_extension": ".py",
   "mimetype": "text/x-python",
   "name": "python",
   "nbconvert_exporter": "python",
   "pygments_lexer": "ipython3",
   "version": "3.9.12"
  },
  "orig_nbformat": 4
 },
 "nbformat": 4,
 "nbformat_minor": 2
}
