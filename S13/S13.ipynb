{
 "cells": [
  {
   "cell_type": "code",
   "execution_count": 1,
   "metadata": {},
   "outputs": [
    {
     "data": {
      "text/plain": [
       "-0.3369615411989142"
      ]
     },
     "execution_count": 1,
     "metadata": {},
     "output_type": "execute_result"
    }
   ],
   "source": [
    "from scipy import stats\n",
    "srcc = stats.spearmanr( [0.6480761, 0.62233955, 0.6661059, 0.631339, 0.6192408, 0.641552, 0.6423639, 0.7225227, 0.65772206, 0.63077545, 0.54655486  , 0.6763791, 0.62823856, 0.63159883, 0.62590545, 0.65006614, 0.6068853, 0.63621056, 0.5723472, 0.6442189, 0.62065214, 0.67560524, 0.6549503, 0.61165047], [0.062, 0.032, 0.029, 0.028, 0.027, 0.104, 0.028, 0.006, 0.033, 0.088, 0.052, 0.014, 0.029, 0.032, 0.022, 0.0, 0.012, 0.04, 0.051, 0.003, 0.032, 0.031, 0.019, 0.042])\n",
    "srcc[0]"
   ]
  },
  {
   "cell_type": "code",
   "execution_count": 2,
   "metadata": {},
   "outputs": [
    {
     "name": "stdout",
     "output_type": "stream",
     "text": [
      "d:\\quality_assessment\\knowledge_distillation\\ckdn\\code\\knowledge-distillation-master\n"
     ]
    }
   ],
   "source": [
    "%cd ..\n"
   ]
  },
  {
   "cell_type": "code",
   "execution_count": 3,
   "metadata": {},
   "outputs": [
    {
     "name": "stdout",
     "output_type": "stream",
     "text": [
      "NVIDIA GeForce GTX 1050\n",
      "True\n"
     ]
    }
   ],
   "source": [
    "import torch\n",
    "print(torch.cuda.get_device_name(0))\n",
    "print(torch.cuda.is_available())\n"
   ]
  },
  {
   "cell_type": "code",
   "execution_count": 4,
   "metadata": {},
   "outputs": [],
   "source": [
    "import predict_one_image\n",
    "\n"
   ]
  },
  {
   "cell_type": "code",
   "execution_count": 5,
   "metadata": {},
   "outputs": [],
   "source": [
    "iqa = predict_one_image.IQA_CKDN()"
   ]
  },
  {
   "cell_type": "code",
   "execution_count": 6,
   "metadata": {},
   "outputs": [
    {
     "data": {
      "text/plain": [
       "0.5934968"
      ]
     },
     "execution_count": 6,
     "metadata": {},
     "output_type": "execute_result"
    }
   ],
   "source": [
    "iqa.predict(restored_addr=\"tst_imgs/i01_19_4.bmp\" , degraded_addr= \"tst_imgs/i01_23_1.bmp\")"
   ]
  },
  {
   "cell_type": "code",
   "execution_count": 7,
   "metadata": {},
   "outputs": [],
   "source": [
    "dte = iqa.get_DTE_features(\"tst_imgs/i01_19_4.bmp\")"
   ]
  },
  {
   "cell_type": "code",
   "execution_count": 8,
   "metadata": {},
   "outputs": [
    {
     "data": {
      "text/plain": [
       "(256,)"
      ]
     },
     "execution_count": 8,
     "metadata": {},
     "output_type": "execute_result"
    }
   ],
   "source": [
    "dte[0].shape"
   ]
  },
  {
   "cell_type": "markdown",
   "metadata": {},
   "source": [
    "# vgg features\n"
   ]
  },
  {
   "cell_type": "code",
   "execution_count": 9,
   "metadata": {},
   "outputs": [
    {
     "name": "stderr",
     "output_type": "stream",
     "text": [
      "c:\\Users\\Farhad\\.conda\\envs\\gpu\\lib\\site-packages\\torchvision\\models\\_utils.py:208: UserWarning: The parameter 'pretrained' is deprecated since 0.13 and may be removed in the future, please use 'weights' instead.\n",
      "  warnings.warn(\n",
      "c:\\Users\\Farhad\\.conda\\envs\\gpu\\lib\\site-packages\\torchvision\\models\\_utils.py:223: UserWarning: Arguments other than a weight enum or `None` for 'weights' are deprecated since 0.13 and may be removed in the future. The current behavior is equivalent to passing `weights=VGG16_Weights.IMAGENET1K_V1`. You can also use `weights=VGG16_Weights.DEFAULT` to get the most up-to-date weights.\n",
      "  warnings.warn(msg)\n"
     ]
    },
    {
     "data": {
      "text/plain": [
       "Sequential(\n",
       "  (0): Conv2d(3, 64, kernel_size=(3, 3), stride=(1, 1), padding=(1, 1))\n",
       "  (1): ReLU(inplace=True)\n",
       "  (2): Conv2d(64, 64, kernel_size=(3, 3), stride=(1, 1), padding=(1, 1))\n",
       "  (3): ReLU(inplace=True)\n",
       "  (4): MaxPool2d(kernel_size=2, stride=2, padding=0, dilation=1, ceil_mode=False)\n",
       "  (5): Conv2d(64, 128, kernel_size=(3, 3), stride=(1, 1), padding=(1, 1))\n",
       "  (6): ReLU(inplace=True)\n",
       "  (7): Conv2d(128, 128, kernel_size=(3, 3), stride=(1, 1), padding=(1, 1))\n",
       "  (8): ReLU(inplace=True)\n",
       "  (9): MaxPool2d(kernel_size=2, stride=2, padding=0, dilation=1, ceil_mode=False)\n",
       "  (10): Conv2d(128, 256, kernel_size=(3, 3), stride=(1, 1), padding=(1, 1))\n",
       "  (11): ReLU(inplace=True)\n",
       "  (12): Conv2d(256, 256, kernel_size=(3, 3), stride=(1, 1), padding=(1, 1))\n",
       "  (13): ReLU(inplace=True)\n",
       "  (14): Conv2d(256, 256, kernel_size=(3, 3), stride=(1, 1), padding=(1, 1))\n",
       "  (15): ReLU(inplace=True)\n",
       "  (16): MaxPool2d(kernel_size=2, stride=2, padding=0, dilation=1, ceil_mode=False)\n",
       "  (17): Conv2d(256, 512, kernel_size=(3, 3), stride=(1, 1), padding=(1, 1))\n",
       "  (18): ReLU(inplace=True)\n",
       "  (19): Conv2d(512, 512, kernel_size=(3, 3), stride=(1, 1), padding=(1, 1))\n",
       "  (20): ReLU(inplace=True)\n",
       "  (21): Conv2d(512, 512, kernel_size=(3, 3), stride=(1, 1), padding=(1, 1))\n",
       "  (22): ReLU(inplace=True)\n",
       "  (23): MaxPool2d(kernel_size=2, stride=2, padding=0, dilation=1, ceil_mode=False)\n",
       ")"
      ]
     },
     "execution_count": 9,
     "metadata": {},
     "output_type": "execute_result"
    }
   ],
   "source": [
    "import torch\n",
    "from torchvision import models, transforms\n",
    "from torch.autograd import Variable\n",
    "\n",
    "# Load the pretrained model\n",
    "model = models.vgg16(pretrained=True)\n",
    "\n",
    "# Use the model object to select the desired layer\n",
    "block4 = model.features[:24]\n",
    "\n",
    "# Set the model to evaluation mode\n",
    "block4.eval()"
   ]
  },
  {
   "cell_type": "code",
   "execution_count": 10,
   "metadata": {},
   "outputs": [],
   "source": [
    "from PIL import Image\n",
    "\n",
    "\n",
    "device = torch.device(\"cuda\" if torch.cuda.is_available() else \"cpu\")\n",
    "\n",
    "block4 = block4.to(device)\n",
    "block4.eval()\n",
    "\n",
    "transform = transforms.Compose([\n",
    "    transforms.Resize(224),\n",
    "    transforms.ToTensor(),\n",
    "    transforms.Normalize(mean=[0.485, 0.456, 0.406], std=[0.229, 0.224, 0.225]),\n",
    "])\n",
    "\n",
    "# Load the image\n",
    "image = Image.open(\"tst_imgs/i01_19_4.bmp\")\n",
    "\n",
    "# Apply the transformations and add an extra dimension for the batch\n",
    "image = transform(image).unsqueeze(0)\n",
    "\n",
    "# Ensure we're doing this on CPU\n",
    "image = image.to(device)\n",
    "\n",
    "# Forward pass\n",
    "output = block4(image)\n",
    "output = torch.nn.functional.adaptive_max_pool2d(output, (1, 1))\n",
    "# Print output"
   ]
  },
  {
   "cell_type": "code",
   "execution_count": 11,
   "metadata": {},
   "outputs": [
    {
     "data": {
      "text/plain": [
       "512"
      ]
     },
     "execution_count": 11,
     "metadata": {},
     "output_type": "execute_result"
    }
   ],
   "source": [
    "import torch\n",
    "from torchvision import models, transforms\n",
    "from torch.autograd import Variable\n",
    "from PIL import Image\n",
    "\n",
    "# Load the pretrained model\n",
    "model = models.vgg16(pretrained=True)\n",
    "\n",
    "# Use the model object to select the desired layer\n",
    "block4 = model.features[:24]\n",
    "\n",
    "\n",
    "\n",
    "def get_features_from_vgg_block_4(img_addr , block4 = block4):\n",
    "\n",
    "    device = torch.device(\"cuda\" if torch.cuda.is_available() else \"cpu\")\n",
    "    block4 = block4.to(device)\n",
    "    block4.eval()\n",
    "\n",
    "    transform = transforms.Compose([\n",
    "        transforms.Resize(224),\n",
    "        transforms.ToTensor(),\n",
    "        transforms.Normalize(mean=[0.485, 0.456, 0.406], std=[0.229, 0.224, 0.225]),\n",
    "    ])\n",
    "\n",
    "    # Load the image\n",
    "    image = Image.open(img_addr)\n",
    "\n",
    "    # Apply the transformations and add an extra dimension for the batch\n",
    "    image = transform(image).unsqueeze(0)\n",
    "\n",
    "    # Ensure we're doing this on CPU\n",
    "    image = image.to(device)\n",
    "\n",
    "    # Forward pass\n",
    "    output = block4(image)\n",
    "    output = torch.nn.functional.adaptive_max_pool2d(output, (1, 1))\n",
    "\n",
    "    output = torch.squeeze(output)\n",
    "\n",
    "    # Convert the tensor to a numpy array\n",
    "    output_np = output.cpu().detach().numpy()\n",
    "    return output_np\n",
    "\n",
    "\n",
    "len(get_features_from_vgg_block_4(\"tst_imgs/i01_19_4.bmp\" , block4 = block4))"
   ]
  },
  {
   "attachments": {},
   "cell_type": "markdown",
   "metadata": {},
   "source": [
    "## correlation or cosine distance"
   ]
  },
  {
   "cell_type": "code",
   "execution_count": 12,
   "metadata": {},
   "outputs": [
    {
     "data": {
      "text/plain": [
       "(0.9977554924451721, 0.0005650520324707031)"
      ]
     },
     "execution_count": 12,
     "metadata": {},
     "output_type": "execute_result"
    }
   ],
   "source": [
    "from scipy import stats\n",
    "import numpy as np\n",
    "from scipy.spatial.distance import cosine\n",
    "\n",
    "\n",
    "r = \"tst_imgs/i01_23_1.bmp\"\n",
    "d = \"tst_imgs/i01_19_4.bmp\"\n",
    "\n",
    "\n",
    "rr = iqa.get_DTE_features(r)[0]\n",
    "dd = iqa.get_DTE_features(d)[0]\n",
    "\n",
    "srcc = stats.spearmanr( rr , dd)\n",
    "srcc[0] , cosine(rr, dd)"
   ]
  },
  {
   "attachments": {},
   "cell_type": "markdown",
   "metadata": {},
   "source": [
    "## cosine on TID in vgg feature space"
   ]
  },
  {
   "cell_type": "code",
   "execution_count": 14,
   "metadata": {},
   "outputs": [],
   "source": [
    "\n",
    "contents = [\"01\",\"02\",\"03\",\"04\",\"05\",\"06\",\"07\",\"08\",\"09\" , \"10\", \"11\", \"12\", \"13\", \"14\", \"15\", \"16\", \"17\", \"18\", \"19\",\"20\",\"21\",\"22\",\"23\",\"24\",\"25\"]\n",
    "\n",
    "\n",
    "import glob\n",
    "TID_ADDR = \"D:\\quality_assessment\\DS/tid2013\""
   ]
  },
  {
   "cell_type": "code",
   "execution_count": 19,
   "metadata": {},
   "outputs": [],
   "source": [
    "def get_refs_content(content):\n",
    "        return glob.glob(TID_ADDR+'/reference_images/*'+content+'*') * 120"
   ]
  },
  {
   "cell_type": "code",
   "execution_count": 20,
   "metadata": {},
   "outputs": [],
   "source": [
    "def get_images_content(im_name):\n",
    "    imgs = glob.glob(TID_ADDR+'/distorted_images/*'+im_name+'_'+ '*' +'_'+ '*' +'.*')\n",
    "    return imgs"
   ]
  },
  {
   "cell_type": "code",
   "execution_count": null,
   "metadata": {},
   "outputs": [],
   "source": [
    "\n",
    "\n",
    "row = 3\n",
    "\n",
    "\n",
    "for c in contents:\n",
    "    imgs = get_images_content(c)\n",
    "    refs = get_refs_content(c)\n",
    "    for i in range(len(imgs)):\n",
    "        rr = get_features_from_vgg_block_4(refs[i])\n",
    "        dd = get_features_from_vgg_block_4(imgs[i])\n",
    "        \n",
    "\n",
    "        # worksheet.write(row, i+4, cosine(rr, dd))\n",
    "        worksheet.write(row, i+4,  cosine(rr, dd))\n",
    "\n",
    "    \n",
    "    print(row)\n",
    "    row +=1\n",
    "\n",
    "workbook.close()    "
   ]
  },
  {
   "cell_type": "markdown",
   "metadata": {},
   "source": [
    "# normalize by other refs"
   ]
  },
  {
   "cell_type": "code",
   "execution_count": 24,
   "metadata": {},
   "outputs": [],
   "source": [
    "import xlsxwriter\n",
    " \n",
    "workbook = xlsxwriter.Workbook('COSINE_on_VGG_features_normalize_by_other_refs.xlsx')\n",
    "worksheet = workbook.add_worksheet()"
   ]
  },
  {
   "cell_type": "code",
   "execution_count": 25,
   "metadata": {},
   "outputs": [
    {
     "name": "stdout",
     "output_type": "stream",
     "text": [
      "3\n",
      "4\n",
      "5\n",
      "6\n",
      "7\n",
      "8\n",
      "9\n",
      "10\n",
      "11\n",
      "12\n",
      "13\n",
      "14\n",
      "15\n",
      "16\n",
      "17\n",
      "18\n",
      "19\n",
      "20\n",
      "21\n",
      "22\n",
      "23\n",
      "24\n",
      "25\n",
      "26\n",
      "27\n"
     ]
    }
   ],
   "source": [
    "import random\n",
    "\n",
    "row = 3\n",
    "\n",
    "for c in contents:\n",
    "    rand_ref = random.sample(contents, 1)[0]\n",
    "    while rand_ref == c:\n",
    "       rand_ref = random.sample(contents, 1)[0]\n",
    "     \n",
    "    imgs = get_images_content(c)\n",
    "    refs = get_refs_content(c)\n",
    "    other_refs = get_refs_content(rand_ref)\n",
    "    for i in range(len(imgs)):\n",
    "        dd = get_features_from_vgg_block_4(imgs[i])\n",
    "        rr = get_features_from_vgg_block_4(refs[i])\n",
    "        other_rr = get_features_from_vgg_block_4(other_refs[i])\n",
    "        \n",
    "        cos_ref = cosine(rr, dd)\n",
    "        cos_other_ref = cosine(other_rr, dd)\n",
    "        # worksheet.write(row, i+4, cosine(rr, dd))\n",
    "        worksheet.write(row, i+4,  cos_ref / cos_other_ref)\n",
    "\n",
    "    \n",
    "    print(row)\n",
    "    row +=1\n",
    "\n",
    "workbook.close()     \n",
    "\n",
    "\n",
    "\n",
    "  "
   ]
  },
  {
   "cell_type": "code",
   "execution_count": null,
   "metadata": {},
   "outputs": [],
   "source": []
  },
  {
   "cell_type": "markdown",
   "metadata": {},
   "source": [
    "# Correlation\n"
   ]
  },
  {
   "cell_type": "markdown",
   "metadata": {},
   "source": [
    "# dst:"
   ]
  },
  {
   "cell_type": "code",
   "execution_count": 15,
   "metadata": {},
   "outputs": [],
   "source": [
    "import glob\n",
    "dsts = [\"01\",\"02\",\"03\",\"04\",\"05\",\"06\",\"07\",\"08\",\"09\" , \"10\", \"11\", \"12\", \"13\", \"14\", \"15\", \"16\", \"17\", \"18\", \"19\",\"20\",\"21\",\"22\",\"23\",\"24\"]\n",
    "\n",
    "\n",
    "def get_images_dst(dst_type):\n",
    "    imgs = glob.glob(TID_ADDR+'/distorted_images/*_'+ dst_type +'_'+ '*' +'.*')\n",
    "    return imgs\n",
    "\n",
    "def get_mos_dst(dst_type ):\n",
    "    mos = []\n",
    "    f = open(TID_ADDR+\"/mos_with_names.txt\", \"r\")\n",
    "    lines = f.readlines()\n",
    "    for l in lines:\n",
    "        if l.split(' ')[1].split('_')[1] == dst_type:\n",
    "            mos.append(float(l.split(' ')[0][:5]))\n",
    "\n",
    "    return mos\n",
    "\n",
    "\n",
    "refs = glob.glob(TID_ADDR+'/reference_images/*')\n",
    "\n",
    "refs_for_dst = []\n",
    "\n",
    "for elem in refs:\n",
    "    for i in range(5):\n",
    "        refs_for_dst.append(elem)"
   ]
  },
  {
   "cell_type": "code",
   "execution_count": 16,
   "metadata": {},
   "outputs": [
    {
     "name": "stdout",
     "output_type": "stream",
     "text": [
      "3\n",
      "4\n",
      "5\n",
      "6\n",
      "7\n",
      "8\n",
      "9\n",
      "10\n",
      "11\n",
      "12\n",
      "13\n",
      "14\n",
      "15\n",
      "16\n",
      "17\n",
      "18\n",
      "19\n",
      "20\n",
      "21\n",
      "22\n",
      "23\n",
      "24\n",
      "25\n",
      "26\n"
     ]
    }
   ],
   "source": [
    "import xlsxwriter\n",
    " \n",
    "workbook = xlsxwriter.Workbook('SRCC_on_VGG-cosine_and_mos.xlsx')\n",
    "worksheet = workbook.add_worksheet()\n",
    "\n",
    "\n",
    "row = 3\n",
    "\n",
    "\n",
    "for c in dsts:\n",
    "    imgs = get_images_dst(c)\n",
    "    refs = refs_for_dst\n",
    "    cosines = []\n",
    "    moses = get_mos_dst(c)\n",
    "    for i in range(len(imgs)):\n",
    "        rr = get_features_from_vgg_block_4(refs[i])\n",
    "        dd = get_features_from_vgg_block_4(imgs[i])\n",
    "        \n",
    "        cosines.append(cosine( rr , dd))\n",
    "\n",
    "    worksheet.write(row, 3,  c)\n",
    "    worksheet.write(row, 4,  stats.spearmanr( cosines , moses)[0])\n",
    "\n",
    "    \n",
    "    print(row)\n",
    "    row +=1\n",
    "\n",
    "workbook.close()  "
   ]
  },
  {
   "cell_type": "markdown",
   "metadata": {},
   "source": [
    "all imgs\n"
   ]
  },
  {
   "cell_type": "code",
   "execution_count": 17,
   "metadata": {},
   "outputs": [
    {
     "name": "stdout",
     "output_type": "stream",
     "text": [
      "-0.8444548058342226\n"
     ]
    }
   ],
   "source": [
    "imgs = []\n",
    "refs = []\n",
    "moses = []\n",
    "for c in dsts:\n",
    "    imgs += get_images_dst(c)\n",
    "    refs += refs_for_dst\n",
    "    moses += get_mos_dst(c)\n",
    "\n",
    "\n",
    "cosines = []\n",
    "for i in range(len(imgs)):\n",
    "    rr = get_features_from_vgg_block_4(refs[i])\n",
    "    dd = get_features_from_vgg_block_4(imgs[i])\n",
    "    \n",
    "    cosines.append(cosine( rr , dd))\n",
    "\n",
    "\n",
    "print(stats.spearmanr( cosines , moses)[0])"
   ]
  },
  {
   "cell_type": "markdown",
   "metadata": {},
   "source": [
    "content"
   ]
  },
  {
   "cell_type": "code",
   "execution_count": 18,
   "metadata": {},
   "outputs": [
    {
     "name": "stdout",
     "output_type": "stream",
     "text": [
      "3\n",
      "4\n",
      "5\n",
      "6\n",
      "7\n",
      "8\n",
      "9\n",
      "10\n",
      "11\n",
      "12\n",
      "13\n",
      "14\n",
      "15\n",
      "16\n",
      "17\n",
      "18\n",
      "19\n",
      "20\n",
      "21\n",
      "22\n",
      "23\n",
      "24\n",
      "25\n",
      "26\n",
      "27\n"
     ]
    }
   ],
   "source": [
    "contents = [\"01\",\"02\",\"03\",\"04\",\"05\",\"06\",\"07\",\"08\",\"09\" , \"10\", \"11\", \"12\", \"13\", \"14\", \"15\", \"16\", \"17\", \"18\", \"19\",\"20\",\"21\",\"22\",\"23\",\"24\",\"25\"]\n",
    "\n",
    "\n",
    "def get_images_content(im_name):\n",
    "    imgs = glob.glob(TID_ADDR+'/distorted_images/*'+im_name+'_'+ '*' +'_'+ '*' +'.*')\n",
    "    return imgs\n",
    "\n",
    "def get_mos_content(im_name ):\n",
    "    mos = []\n",
    "    f = open(TID_ADDR+\"/mos_with_names.txt\", \"r\")\n",
    "    lines = f.readlines()\n",
    "    for l in lines:\n",
    "        if l.split(' ')[1][1:3] == im_name:\n",
    "            mos.append(float(l.split(' ')[0][:5]))\n",
    "\n",
    "    return mos\n",
    "\n",
    "\n",
    "def get_refs_content(content):\n",
    "        return glob.glob(TID_ADDR+'/reference_images/*'+content+'*') * 120\n",
    "\n",
    "\n",
    "\n",
    "\n",
    "\n",
    "import xlsxwriter\n",
    " \n",
    "workbook = xlsxwriter.Workbook('SRCC_on_VGG-cosine_and_mos-content.xlsx')\n",
    "worksheet = workbook.add_worksheet()\n",
    "\n",
    "\n",
    "\n",
    "row = 3\n",
    "\n",
    "\n",
    "for c in contents:\n",
    "    imgs = get_images_content(c)\n",
    "    refs = get_refs_content(c)\n",
    "    cosines = []\n",
    "    moses = get_mos_content(c)\n",
    "    for i in range(len(imgs)):\n",
    "        rr = get_features_from_vgg_block_4(refs[i])\n",
    "        dd = get_features_from_vgg_block_4(imgs[i])\n",
    "        \n",
    "        cosines.append(cosine( rr , dd))\n",
    "\n",
    "    worksheet.write(row, 3,  c)\n",
    "    worksheet.write(row, 4,  stats.spearmanr( cosines , moses)[0])\n",
    "\n",
    "    \n",
    "    print(row)\n",
    "    row +=1\n",
    "\n",
    "workbook.close() "
   ]
  },
  {
   "cell_type": "markdown",
   "metadata": {},
   "source": [
    "all imgs"
   ]
  },
  {
   "cell_type": "code",
   "execution_count": 19,
   "metadata": {},
   "outputs": [
    {
     "data": {
      "text/plain": [
       "-0.8444548058342226"
      ]
     },
     "execution_count": 19,
     "metadata": {},
     "output_type": "execute_result"
    }
   ],
   "source": [
    "imgs = []\n",
    "refs = []\n",
    "moses = []\n",
    "for c in contents:\n",
    "    imgs += get_images_content(c)\n",
    "    refs += get_refs_content(c)\n",
    "    moses += get_mos_content(c)\n",
    "\n",
    "\n",
    "cosines = []\n",
    "for i in range(len(imgs)):\n",
    "    rr = get_features_from_vgg_block_4(refs[i])\n",
    "    dd = get_features_from_vgg_block_4(imgs[i])\n",
    "    \n",
    "    cosines.append(cosine( rr , dd))\n",
    "\n",
    "stats.spearmanr( cosines , moses)[0]"
   ]
  },
  {
   "cell_type": "code",
   "execution_count": null,
   "metadata": {},
   "outputs": [],
   "source": []
  }
 ],
 "metadata": {
  "kernelspec": {
   "display_name": "gputest",
   "language": "python",
   "name": "python3"
  },
  "language_info": {
   "codemirror_mode": {
    "name": "ipython",
    "version": 3
   },
   "file_extension": ".py",
   "mimetype": "text/x-python",
   "name": "python",
   "nbconvert_exporter": "python",
   "pygments_lexer": "ipython3",
   "version": "3.9.18"
  },
  "orig_nbformat": 4
 },
 "nbformat": 4,
 "nbformat_minor": 2
}
