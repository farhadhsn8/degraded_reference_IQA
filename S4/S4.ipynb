{
 "cells": [
  {
   "cell_type": "code",
   "execution_count": 1,
   "metadata": {},
   "outputs": [],
   "source": [
    "from scipy import stats\n"
   ]
  },
  {
   "cell_type": "code",
   "execution_count": 2,
   "metadata": {},
   "outputs": [
    {
     "data": {
      "text/plain": [
       "-0.3369615411989142"
      ]
     },
     "execution_count": 2,
     "metadata": {},
     "output_type": "execute_result"
    }
   ],
   "source": [
    "srcc = stats.spearmanr( [0.6480761, 0.62233955, 0.6661059, 0.631339, 0.6192408, 0.641552, 0.6423639, 0.7225227, 0.65772206, 0.63077545, 0.54655486  , 0.6763791, 0.62823856, 0.63159883, 0.62590545, 0.65006614, 0.6068853, 0.63621056, 0.5723472, 0.6442189, 0.62065214, 0.67560524, 0.6549503, 0.61165047], [0.062, 0.032, 0.029, 0.028, 0.027, 0.104, 0.028, 0.006, 0.033, 0.088, 0.052, 0.014, 0.029, 0.032, 0.022, 0.0, 0.012, 0.04, 0.051, 0.003, 0.032, 0.031, 0.019, 0.042])\n",
    "srcc[0]"
   ]
  },
  {
   "cell_type": "code",
   "execution_count": 3,
   "metadata": {},
   "outputs": [],
   "source": [
    "from skimage import metrics\n",
    "from skimage.io import imread\n",
    "import cv2\n",
    "\n",
    "# Load two images\n",
    "def get_ssim(addr , addr_ref):\n",
    "    img = imread(addr)\n",
    "    ref = imread(addr_ref)\n",
    "\n",
    "    # Compute SSIM between two images\n",
    "    return metrics.structural_similarity(img, ref, multichannel=True)"
   ]
  },
  {
   "cell_type": "code",
   "execution_count": 4,
   "metadata": {},
   "outputs": [
    {
     "name": "stdout",
     "output_type": "stream",
     "text": [
      "c:\\OTHER\\ترم 3\\پایاننامه\\proposal\\knowledge distillation\\CKDN_code\n"
     ]
    }
   ],
   "source": [
    "%cd ..\n"
   ]
  },
  {
   "cell_type": "code",
   "execution_count": 5,
   "metadata": {},
   "outputs": [],
   "source": [
    "import predict_one_image\n",
    "\n",
    "from haarpsi.haarPsi import haar_psi"
   ]
  },
  {
   "cell_type": "code",
   "execution_count": 6,
   "metadata": {},
   "outputs": [],
   "source": [
    "iqa = predict_one_image.IQA_CKDN()"
   ]
  },
  {
   "cell_type": "code",
   "execution_count": 7,
   "metadata": {},
   "outputs": [
    {
     "name": "stderr",
     "output_type": "stream",
     "text": [
      "c:\\Users\\Farhad\\anaconda3\\envs\\gputest\\lib\\site-packages\\torchvision\\transforms\\functional.py:423: UserWarning: Argument interpolation should be of type InterpolationMode instead of int. Please, use InterpolationMode enum.\n",
      "  warnings.warn(\n"
     ]
    },
    {
     "data": {
      "text/plain": [
       "0.3415382"
      ]
     },
     "execution_count": 7,
     "metadata": {},
     "output_type": "execute_result"
    }
   ],
   "source": [
    "iqa.predict(restored_addr=\"images1/restored/3.png\" , degraded_addr= \"images1/degraded/3.png\")"
   ]
  },
  {
   "cell_type": "code",
   "execution_count": 8,
   "metadata": {},
   "outputs": [],
   "source": [
    "def compute_haarpsi(im_addr , ref_addr):\n",
    "    im = cv2.imread(im_addr)\n",
    "    ref = cv2.imread(ref_addr)\n",
    "    return haar_psi(im , ref)[0]"
   ]
  },
  {
   "cell_type": "code",
   "execution_count": 9,
   "metadata": {},
   "outputs": [
    {
     "data": {
      "text/plain": [
       "0.28236600275638674"
      ]
     },
     "execution_count": 9,
     "metadata": {},
     "output_type": "execute_result"
    }
   ],
   "source": [
    "compute_haarpsi(\"images1/restored/3.png\" , \"images1/degraded/3.png\")"
   ]
  },
  {
   "cell_type": "code",
   "execution_count": 10,
   "metadata": {},
   "outputs": [],
   "source": [
    "TID_ADDR = \"C:\\OTHER\\\\term2\\seminars\\papers\\Mengyang2019\\\\bosse2017 varianced_patches\\\\test_varianced_and_random_patch_method\\datasets\\TID2013\""
   ]
  },
  {
   "cell_type": "code",
   "execution_count": 11,
   "metadata": {},
   "outputs": [],
   "source": [
    "import glob"
   ]
  },
  {
   "cell_type": "code",
   "execution_count": 12,
   "metadata": {},
   "outputs": [],
   "source": [
    "def get_srocc_plcc(rest , deg , dmos):\n",
    "    preds = []\n",
    "    gt = []\n",
    "    for i in range(len(deg)):\n",
    "        pred = iqa.predict(restored_addr = rest[i] , degraded_addr= deg[i])\n",
    "        preds.append(pred)\n",
    "\n",
    "    # print(\"rest , deg = \" , len(rest) , len(deg))\n",
    "    # print(\"pred , dmos = \" , len(preds) , len(dmos))\n",
    "    plcc = stats.pearsonr(preds, dmos)\n",
    "    srcc = stats.spearmanr(preds, dmos)\n",
    "    return srcc , plcc "
   ]
  },
  {
   "cell_type": "code",
   "execution_count": 13,
   "metadata": {},
   "outputs": [],
   "source": [
    "def get_srocc_plcc_SSIM(rest , deg , dmos):\n",
    "    preds = []\n",
    "    gt = []\n",
    "    for i in range(len(deg)):\n",
    "        pred = get_ssim(rest[i] ,  deg[i]) \n",
    "        preds.append(pred)\n",
    "\n",
    "    # print(\"rest , deg = \" , len(rest) , len(deg))\n",
    "    # print(\"pred , dmos = \" , len(preds) , len(dmos))\n",
    "    plcc = stats.pearsonr(preds, dmos)\n",
    "    srcc = stats.spearmanr(preds, dmos)\n",
    "    return srcc , plcc "
   ]
  },
  {
   "cell_type": "code",
   "execution_count": 14,
   "metadata": {},
   "outputs": [],
   "source": [
    "def get_srocc_plcc_HaarPsi(rest , deg , dmos):\n",
    "    preds = []\n",
    "    gt = []\n",
    "    for i in range(len(deg)):\n",
    "        pred = compute_haarpsi(rest[i] ,  deg[i]) \n",
    "        preds.append(pred)\n",
    "\n",
    "    # print(\"rest , deg = \" , len(rest) , len(deg))\n",
    "    # print(\"pred , dmos = \" , len(preds) , len(dmos))\n",
    "    plcc = stats.pearsonr(preds, dmos)\n",
    "    srcc = stats.spearmanr(preds, dmos)\n",
    "    return srcc , plcc "
   ]
  },
  {
   "cell_type": "code",
   "execution_count": 15,
   "metadata": {},
   "outputs": [],
   "source": [
    "def get_images_dst(dst_type):\n",
    "    imgs = glob.glob(TID_ADDR+'/distorted_images/*_'+ dst_type +'_'+ '*' +'.*')\n",
    "    return imgs\n",
    "\n",
    "def get_mos_dst(dst_type ):\n",
    "    mos = []\n",
    "    f = open(TID_ADDR+\"/mos_with_names.txt\", \"r\")\n",
    "    lines = f.readlines()\n",
    "    for l in lines:\n",
    "        if l.split(' ')[1].split('_')[1] == dst_type:\n",
    "            mos.append(float(l.split(' ')[0][:5]))\n",
    "\n",
    "    return mos"
   ]
  },
  {
   "cell_type": "code",
   "execution_count": 16,
   "metadata": {},
   "outputs": [],
   "source": [
    "def get_images_content(im_name):\n",
    "    imgs = glob.glob(TID_ADDR+'/distorted_images/*'+im_name+'_'+ '*' +'_'+ '*' +'.*')\n",
    "    return imgs\n",
    "\n",
    "def get_mos_content(im_name ):\n",
    "    mos = []\n",
    "    f = open(TID_ADDR+\"/mos_with_names.txt\", \"r\")\n",
    "    lines = f.readlines()\n",
    "    for l in lines:\n",
    "        if l.split(' ')[1][1:3] == im_name:\n",
    "            mos.append(float(l.split(' ')[0][:5]))\n",
    "\n",
    "    return mos"
   ]
  },
  {
   "cell_type": "code",
   "execution_count": 17,
   "metadata": {},
   "outputs": [],
   "source": [
    "\n",
    "def get_refs_content(content):\n",
    "        return glob.glob(TID_ADDR+'/reference_images/*'+content+'*') * 120"
   ]
  },
  {
   "cell_type": "code",
   "execution_count": 18,
   "metadata": {},
   "outputs": [],
   "source": [
    "refs = glob.glob(TID_ADDR+'/reference_images/*')\n",
    "\n",
    "refs_for_dst = []\n",
    "\n",
    "for elem in refs:\n",
    "    for i in range(5):\n",
    "        refs_for_dst.append(elem)\n",
    "\n",
    "\n"
   ]
  },
  {
   "attachments": {},
   "cell_type": "markdown",
   "metadata": {},
   "source": [
    "## CKDN_content"
   ]
  },
  {
   "cell_type": "code",
   "execution_count": 22,
   "metadata": {},
   "outputs": [],
   "source": [
    "contents = [\"01\",\"02\",\"03\",\"04\",\"05\",\"06\",\"07\",\"08\",\"09\" , \"10\", \"11\", \"12\", \"13\", \"14\", \"15\", \"16\", \"17\", \"18\", \"19\",\"20\",\"21\",\"22\",\"23\",\"24\",\"25\"]\n",
    "dsts = [\"01\",\"02\",\"03\",\"04\",\"05\",\"06\",\"07\",\"08\",\"09\" , \"10\", \"11\", \"12\", \"13\", \"14\", \"15\", \"16\", \"17\", \"18\", \"19\",\"20\",\"21\",\"22\",\"23\",\"24\"]"
   ]
  },
  {
   "cell_type": "code",
   "execution_count": 43,
   "metadata": {},
   "outputs": [],
   "source": [
    "import xlsxwriter\n",
    " \n",
    "workbook = xlsxwriter.Workbook('CKDN_content.xlsx')\n",
    "worksheet = workbook.add_worksheet()\n"
   ]
  },
  {
   "cell_type": "code",
   "execution_count": 44,
   "metadata": {},
   "outputs": [
    {
     "name": "stdout",
     "output_type": "stream",
     "text": [
      "row , col =  1\n",
      "row , col =  2\n",
      "row , col =  3\n",
      "row , col =  4\n",
      "row , col =  5\n",
      "row , col =  6\n",
      "row , col =  7\n",
      "row , col =  8\n",
      "row , col =  9\n",
      "row , col =  10\n",
      "row , col =  11\n",
      "row , col =  12\n",
      "row , col =  13\n",
      "row , col =  14\n",
      "row , col =  15\n",
      "row , col =  16\n",
      "row , col =  17\n",
      "row , col =  18\n",
      "row , col =  19\n",
      "row , col =  20\n",
      "row , col =  21\n",
      "row , col =  22\n",
      "row , col =  23\n",
      "row , col =  24\n",
      "row , col =  25\n"
     ]
    }
   ],
   "source": [
    "row = 3\n",
    "for i in contents:\n",
    "        print(\"row , col = \" , row-2)\n",
    "        rest = get_images_content(i)\n",
    "        deg = get_refs_content(i)\n",
    "        dmos = get_mos_content(i)\n",
    "        # print(\"ewewew\" , len(deg))\n",
    "        srcc , plcc = get_srocc_plcc(rest , deg , dmos)\n",
    "\n",
    "        worksheet.write(row, 4, i)\n",
    "        worksheet.write(270+row, 4, i)\n",
    "\n",
    "        worksheet.write(row, 5, str(srcc[0]))\n",
    "        worksheet.write(270+row, 5, str(plcc[0]))\n",
    "        row += 1\n",
    "\n",
    "workbook.close()"
   ]
  },
  {
   "attachments": {},
   "cell_type": "markdown",
   "metadata": {},
   "source": [
    "## SSIM_content"
   ]
  },
  {
   "cell_type": "code",
   "execution_count": 53,
   "metadata": {},
   "outputs": [],
   "source": [
    "import xlsxwriter\n",
    " \n",
    "workbook = xlsxwriter.Workbook('SSIM_content.xlsx')\n",
    "worksheet = workbook.add_worksheet()"
   ]
  },
  {
   "cell_type": "code",
   "execution_count": 54,
   "metadata": {},
   "outputs": [
    {
     "name": "stdout",
     "output_type": "stream",
     "text": [
      "row , col =  1\n"
     ]
    },
    {
     "name": "stderr",
     "output_type": "stream",
     "text": [
      "C:\\Users\\Farhad\\AppData\\Local\\Temp\\ipykernel_16900\\1341804016.py:10: FutureWarning: `multichannel` is a deprecated argument name for `structural_similarity`. It will be removed in version 1.0. Please use `channel_axis` instead.\n",
      "  return metrics.structural_similarity(img, ref, multichannel=True)\n"
     ]
    },
    {
     "name": "stdout",
     "output_type": "stream",
     "text": [
      "row , col =  2\n",
      "row , col =  3\n",
      "row , col =  4\n",
      "row , col =  5\n",
      "row , col =  6\n",
      "row , col =  7\n",
      "row , col =  8\n",
      "row , col =  9\n",
      "row , col =  10\n",
      "row , col =  11\n",
      "row , col =  12\n",
      "row , col =  13\n",
      "row , col =  14\n",
      "row , col =  15\n",
      "row , col =  16\n",
      "row , col =  17\n",
      "row , col =  18\n",
      "row , col =  19\n",
      "row , col =  20\n",
      "row , col =  21\n",
      "row , col =  22\n",
      "row , col =  23\n",
      "row , col =  24\n",
      "row , col =  25\n"
     ]
    }
   ],
   "source": [
    "row = 3\n",
    "for i in contents:\n",
    "        print(\"row , col = \" , row-2)\n",
    "        rest = get_images_content(i)\n",
    "        deg = get_refs_content(i)\n",
    "        dmos = get_mos_content(i)\n",
    "        # print(\"ewewew\" , len(deg))\n",
    "        srcc , plcc = get_srocc_plcc_SSIM(rest , deg , dmos)\n",
    "\n",
    "        worksheet.write(row, 4, i)\n",
    "        worksheet.write(270+row, 4, i)\n",
    "\n",
    "        worksheet.write(row, 5, str(srcc[0]))\n",
    "        worksheet.write(270+row, 5, str(plcc[0]))\n",
    "        row += 1\n",
    "\n",
    "workbook.close()"
   ]
  },
  {
   "attachments": {},
   "cell_type": "markdown",
   "metadata": {},
   "source": [
    "## CKDN_dist"
   ]
  },
  {
   "cell_type": "code",
   "execution_count": 59,
   "metadata": {},
   "outputs": [],
   "source": [
    "import xlsxwriter\n",
    " \n",
    "workbook = xlsxwriter.Workbook('CKDN_dist.xlsx')\n",
    "worksheet = workbook.add_worksheet()"
   ]
  },
  {
   "cell_type": "code",
   "execution_count": 60,
   "metadata": {},
   "outputs": [
    {
     "name": "stdout",
     "output_type": "stream",
     "text": [
      "row , col =  1\n",
      "row , col =  2\n",
      "row , col =  3\n",
      "row , col =  4\n",
      "row , col =  5\n",
      "row , col =  6\n",
      "row , col =  7\n",
      "row , col =  8\n",
      "row , col =  9\n",
      "row , col =  10\n",
      "row , col =  11\n",
      "row , col =  12\n",
      "row , col =  13\n",
      "row , col =  14\n",
      "row , col =  15\n",
      "row , col =  16\n",
      "row , col =  17\n",
      "row , col =  18\n",
      "row , col =  19\n",
      "row , col =  20\n",
      "row , col =  21\n",
      "row , col =  22\n",
      "row , col =  23\n",
      "row , col =  24\n"
     ]
    }
   ],
   "source": [
    "row = 3\n",
    "for i in dsts:\n",
    "        print(\"row , col = \" , row-2)\n",
    "        rest = get_images_dst(i)\n",
    "        deg = refs_for_dst\n",
    "        dmos = get_mos_dst(i)\n",
    "        # print(\"ewewew\" , len(deg))\n",
    "        srcc , plcc = get_srocc_plcc(rest , deg , dmos)\n",
    "\n",
    "        worksheet.write(row, 4, i)\n",
    "        worksheet.write(270+row, 4, i)\n",
    "\n",
    "        worksheet.write(row, 5, str(srcc[0]))\n",
    "        worksheet.write(270+row, 5, str(plcc[0]))\n",
    "        row += 1\n",
    "\n",
    "workbook.close()"
   ]
  },
  {
   "attachments": {},
   "cell_type": "markdown",
   "metadata": {},
   "source": [
    "## SSIM_dist"
   ]
  },
  {
   "cell_type": "code",
   "execution_count": 64,
   "metadata": {},
   "outputs": [],
   "source": [
    "import xlsxwriter\n",
    " \n",
    "workbook = xlsxwriter.Workbook('ss_dist.xlsx')\n",
    "worksheet = workbook.add_worksheet()"
   ]
  },
  {
   "cell_type": "code",
   "execution_count": 65,
   "metadata": {},
   "outputs": [
    {
     "name": "stdout",
     "output_type": "stream",
     "text": [
      "row , col =  1\n",
      "row , col =  2\n",
      "row , col =  3\n",
      "row , col =  4\n",
      "row , col =  5\n",
      "row , col =  6\n",
      "row , col =  7\n",
      "row , col =  8\n",
      "row , col =  9\n",
      "row , col =  10\n",
      "row , col =  11\n",
      "row , col =  12\n",
      "row , col =  13\n",
      "row , col =  14\n",
      "row , col =  15\n",
      "row , col =  16\n",
      "row , col =  17\n",
      "row , col =  18\n",
      "row , col =  19\n",
      "row , col =  20\n",
      "row , col =  21\n",
      "row , col =  22\n",
      "row , col =  23\n",
      "row , col =  24\n"
     ]
    }
   ],
   "source": [
    "row = 3\n",
    "for i in dsts:\n",
    "        print(\"row , col = \" , row-2)\n",
    "        rest = get_images_dst(i)\n",
    "        deg = refs_for_dst\n",
    "        dmos = get_mos_dst(i)\n",
    "        # print(\"ewewew\" , len(deg))\n",
    "        srcc , plcc = get_srocc_plcc_SSIM(rest , deg , dmos)\n",
    "\n",
    "        worksheet.write(row, 4, i)\n",
    "        worksheet.write(270+row, 4, i)\n",
    "\n",
    "        worksheet.write(row, 5, str(srcc[0]))\n",
    "        worksheet.write(270+row, 5, str(plcc[0]))\n",
    "        row += 1\n",
    "\n",
    "workbook.close()"
   ]
  },
  {
   "attachments": {},
   "cell_type": "markdown",
   "metadata": {},
   "source": [
    "## Haar_content"
   ]
  },
  {
   "cell_type": "code",
   "execution_count": 23,
   "metadata": {},
   "outputs": [],
   "source": [
    "import xlsxwriter\n",
    " \n",
    "workbook = xlsxwriter.Workbook('Haar_content.xlsx')\n",
    "worksheet = workbook.add_worksheet()"
   ]
  },
  {
   "cell_type": "code",
   "execution_count": 24,
   "metadata": {},
   "outputs": [
    {
     "name": "stdout",
     "output_type": "stream",
     "text": [
      "row , col =  1\n",
      "row , col =  2\n",
      "row , col =  3\n",
      "row , col =  4\n",
      "row , col =  5\n",
      "row , col =  6\n",
      "row , col =  7\n",
      "row , col =  8\n",
      "row , col =  9\n",
      "row , col =  10\n",
      "row , col =  11\n",
      "row , col =  12\n",
      "row , col =  13\n",
      "row , col =  14\n",
      "row , col =  15\n",
      "row , col =  16\n",
      "row , col =  17\n",
      "row , col =  18\n",
      "row , col =  19\n",
      "row , col =  20\n",
      "row , col =  21\n",
      "row , col =  22\n",
      "row , col =  23\n",
      "row , col =  24\n",
      "row , col =  25\n"
     ]
    }
   ],
   "source": [
    "row = 3\n",
    "for i in contents:\n",
    "        print(\"row , col = \" , row-2)\n",
    "        rest = get_images_content(i)\n",
    "        deg = get_refs_content(i)\n",
    "        dmos = get_mos_content(i)\n",
    "        # print(\"ewewew\" , len(rest))\n",
    "        srcc , plcc = get_srocc_plcc_HaarPsi(rest , deg , dmos)\n",
    "\n",
    "        worksheet.write(row, 4, i)\n",
    "        worksheet.write(270+row, 4, i)\n",
    "\n",
    "        worksheet.write(row, 5, str(srcc[0]))\n",
    "        worksheet.write(270+row, 5, str(plcc[0]))\n",
    "        row += 1\n",
    "\n",
    "workbook.close()"
   ]
  },
  {
   "attachments": {},
   "cell_type": "markdown",
   "metadata": {},
   "source": [
    "## Haar_dist"
   ]
  },
  {
   "cell_type": "code",
   "execution_count": 25,
   "metadata": {},
   "outputs": [],
   "source": [
    "import xlsxwriter\n",
    " \n",
    "workbook = xlsxwriter.Workbook('Haar_dst.xlsx')\n",
    "worksheet = workbook.add_worksheet()"
   ]
  },
  {
   "cell_type": "code",
   "execution_count": 26,
   "metadata": {},
   "outputs": [
    {
     "name": "stdout",
     "output_type": "stream",
     "text": [
      "row , col =  1\n",
      "row , col =  2\n",
      "row , col =  3\n",
      "row , col =  4\n",
      "row , col =  5\n",
      "row , col =  6\n",
      "row , col =  7\n",
      "row , col =  8\n",
      "row , col =  9\n",
      "row , col =  10\n",
      "row , col =  11\n",
      "row , col =  12\n",
      "row , col =  13\n",
      "row , col =  14\n",
      "row , col =  15\n",
      "row , col =  16\n",
      "row , col =  17\n",
      "row , col =  18\n",
      "row , col =  19\n",
      "row , col =  20\n",
      "row , col =  21\n",
      "row , col =  22\n",
      "row , col =  23\n",
      "row , col =  24\n"
     ]
    }
   ],
   "source": [
    "row = 3\n",
    "for i in dsts:\n",
    "        print(\"row , col = \" , row-2)\n",
    "        rest = get_images_dst(i)\n",
    "        deg = refs_for_dst\n",
    "        dmos = get_mos_dst(i)\n",
    "        # print(\"ewewew\" , len(rest))\n",
    "        srcc , plcc = get_srocc_plcc_HaarPsi(rest , deg , dmos)\n",
    "\n",
    "        worksheet.write(row, 4, i)\n",
    "        worksheet.write(270+row, 4, i)\n",
    "\n",
    "        worksheet.write(row, 5, str(srcc[0]))\n",
    "        worksheet.write(270+row, 5, str(plcc[0]))\n",
    "        row += 1\n",
    "\n",
    "workbook.close()"
   ]
  },
  {
   "cell_type": "code",
   "execution_count": null,
   "metadata": {},
   "outputs": [],
   "source": []
  }
 ],
 "metadata": {
  "kernelspec": {
   "display_name": "gputest",
   "language": "python",
   "name": "python3"
  },
  "language_info": {
   "codemirror_mode": {
    "name": "ipython",
    "version": 3
   },
   "file_extension": ".py",
   "mimetype": "text/x-python",
   "name": "python",
   "nbconvert_exporter": "python",
   "pygments_lexer": "ipython3",
   "version": "3.9.12"
  },
  "orig_nbformat": 4
 },
 "nbformat": 4,
 "nbformat_minor": 2
}
